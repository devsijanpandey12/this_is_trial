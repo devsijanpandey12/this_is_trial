{
 "cells": [
  {
   "cell_type": "code",
   "execution_count": 3,
   "id": "16129404-d977-44d8-91e4-461f1379348d",
   "metadata": {},
   "outputs": [
    {
     "name": "stdout",
     "output_type": "stream",
     "text": [
      "Requirement already satisfied: openpyxl in c:\\users\\sijan\\appdata\\local\\programs\\python\\python312\\lib\\site-packages (3.1.3)\n",
      "Requirement already satisfied: et-xmlfile in c:\\users\\sijan\\appdata\\local\\programs\\python\\python312\\lib\\site-packages (from openpyxl) (1.1.0)\n"
     ]
    }
   ],
   "source": [
    "!pip install openpyxl"
   ]
  },
  {
   "cell_type": "code",
   "execution_count": 4,
   "id": "4a0486ac-e242-441b-b8cf-99f2175f02fd",
   "metadata": {},
   "outputs": [
    {
     "name": "stdout",
     "output_type": "stream",
     "text": [
      "File saved to: C:/Users/sijan/Desktop\\merged_nepse_market_cap.xlsx\n"
     ]
    }
   ],
   "source": [
    "import pandas as pd\n",
    "import os\n",
    "\n",
    "# Load the Excel file\n",
    "file_path = \"C:/Users/sijan/Desktop/mini_project.xlsx\"\n",
    "excel_data = pd.ExcelFile(file_path)\n",
    "\n",
    "# Parse the 'NEPSE Index by Sector' sheet, starting from the second row for the header\n",
    "nepse_index_df = excel_data.parse('NEPSE Index', header=0, skiprows=1)\n",
    "\n",
    "# Parse the 'Market capitalization' sheet, starting from the third row for the header\n",
    "market_cap_df = excel_data.parse('Market capitalization', header=0, skiprows=2)\n",
    "\n",
    "# Drop the last column of market_cap_df\n",
    "market_cap_df.drop(columns=market_cap_df.columns[-1], inplace=True)\n",
    "\n",
    "# Function to rename columns with special case handling\n",
    "def rename_columns(df, prefix):\n",
    "    new_columns = {}\n",
    "    for col in df.columns:\n",
    "        if col != 'Date/Month':\n",
    "            if \"Insurance/\" in col:\n",
    "                initials = \"I\"\n",
    "            elif \"Non-Life\" in col:\n",
    "                initials = \"NL\"\n",
    "            elif col == \"Hydro\":\n",
    "                initials = \"Hydro\"\n",
    "            else:\n",
    "                parts = col.split()\n",
    "                initials = ''.join(part[0] for part in parts if part.isalnum())\n",
    "            # Ensure unique initials to avoid conflicts like M_H\n",
    "            counter = 1\n",
    "            original_initials = initials\n",
    "            while f\"{prefix}_{initials}\" in new_columns.values():\n",
    "                initials = f\"{original_initials}{counter}\"\n",
    "                counter += 1\n",
    "            new_columns[col] = f\"{prefix}_{initials}\"\n",
    "        else:\n",
    "            new_columns[col] = f\"{prefix}_Date/Month\"\n",
    "    df.rename(columns=new_columns, inplace=True)\n",
    "\n",
    "# Rename columns in both dataframes\n",
    "rename_columns(nepse_index_df, 'N')\n",
    "rename_columns(market_cap_df, 'M')\n",
    "\n",
    "# Fill empty cells with 0\n",
    "nepse_index_df.fillna(0, inplace=True)\n",
    "market_cap_df.fillna(0, inplace=True)\n",
    "\n",
    "# Ensure the 'Date/Month' column is properly formatted to avoid displaying ###\n",
    "nepse_index_df['N_Date/Month'] = pd.to_datetime(nepse_index_df['N_Date/Month'], format='%d-%b-%y', errors='coerce')\n",
    "market_cap_df['M_Date/Month'] = pd.to_datetime(market_cap_df['M_Date/Month'], format='%d-%b-%y', errors='coerce')\n",
    "\n",
    "# Merge the two dataframes on 'Date/Month'\n",
    "merged_df = pd.merge(nepse_index_df, market_cap_df, left_on='N_Date/Month', right_on='M_Date/Month', how='outer')\n",
    "\n",
    "# Drop the second 'Date/Month' column\n",
    "merged_df.drop(columns=['M_Date/Month'], inplace=True)\n",
    "\n",
    "# Rename the remaining 'Date/Month' column back to 'Date/Month'\n",
    "merged_df.rename(columns={'N_Date/Month': 'Date/Month'}, inplace=True)\n",
    "\n",
    "# Rearrange columns to keep 'Date/Month' at the beginning\n",
    "columns = ['Date/Month'] + [col for col in merged_df.columns if col != 'Date/Month']\n",
    "merged_df = merged_df[columns]\n",
    "\n",
    "# Convert dates back to the desired format for output\n",
    "merged_df['Date/Month'] = merged_df['Date/Month'].dt.strftime('%d-%b-%y')\n",
    "\n",
    "# Drop the 'N_1' column\n",
    "merged_df.drop(columns=['N_1'], inplace=True, errors='ignore')\n",
    "\n",
    "# Save the merged dataframe to the specified path\n",
    "desktop_path = \"C:/Users/sijan/Desktop\"\n",
    "output_file_path = os.path.join(desktop_path, \"merged_nepse_market_cap.xlsx\")\n",
    "\n",
    "# Save the merged dataframe to the new path\n",
    "merged_df.to_excel(output_file_path, index=False)\n",
    "\n",
    "print(f\"File saved to: {output_file_path}\")\n",
    "\n",
    "\n"
   ]
  },
  {
   "cell_type": "code",
   "execution_count": null,
   "id": "408d4f59-b921-4231-8326-92fd786c11a5",
   "metadata": {},
   "outputs": [],
   "source": []
  }
 ],
 "metadata": {
  "kernelspec": {
   "display_name": "Python 3 (ipykernel)",
   "language": "python",
   "name": "python3"
  },
  "language_info": {
   "codemirror_mode": {
    "name": "ipython",
    "version": 3
   },
   "file_extension": ".py",
   "mimetype": "text/x-python",
   "name": "python",
   "nbconvert_exporter": "python",
   "pygments_lexer": "ipython3",
   "version": "3.12.3"
  }
 },
 "nbformat": 4,
 "nbformat_minor": 5
}
